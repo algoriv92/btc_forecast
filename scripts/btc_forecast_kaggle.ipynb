import pandas as pd
import yfinance as yf
import matplotlib.pyplot as plt
from datetime import datetime

btc = yf.download("BTC-USD", start="2018-01-01", end=datetime.today().strftime('%Y-%m-%d'))
btc = btc.reset_index()
btc.tail()

plt.figure(figsize=(14,6))
plt.plot(btc['Date'], btc['Close'], label='Precio cierre BTC')
plt.title("Precio histórico de Bitcoin")
plt.xlabel("Fecha")
plt.ylabel("Precio (USD)")
plt.grid(True)
plt.legend()
plt.show()

from sklearn.linear_model import LinearRegression

btc['Days'] = (btc['Date'] - btc['Date'].min()).dt.days
X = btc[['Days']]
y = btc['Close']
model = LinearRegression()
model.fit(X, y)
btc['Predicted'] = model.predict(X)

plt.figure(figsize=(14,6))
plt.plot(btc['Date'], btc['Close'], label='Real')
plt.plot(btc['Date'], btc['Predicted'], label='Predicción lineal', linestyle='--')
plt.title("Predicción simple del precio de BTC")
plt.xlabel("Fecha")
plt.ylabel("USD")
plt.legend()
plt.grid(True)
plt.show()
